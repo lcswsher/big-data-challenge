{
  "nbformat": 4,
  "nbformat_minor": 2,
  "metadata": {
    "colab": {
      "name": "level_one_cameras.ipynb",
      "provenance": [],
      "collapsed_sections": []
    },
    "kernelspec": {
      "name": "python3",
      "display_name": "Python 3"
    },
    "language_info": {
      "name": "python"
    }
  },
  "cells": [
    {
      "cell_type": "code",
      "execution_count": 1,
      "source": [
        "import os\r\n",
        "# Find the latest version of spark 3.0  from http://www.apache.org/dist/spark/ and enter as the spark version\r\n",
        "# For example:\r\n",
        "# spark_version = 'spark-3.0.3'\r\n",
        "spark_version = 'spark-3.1.2'\r\n",
        "os.environ['SPARK_VERSION']=spark_version\r\n",
        "\r\n",
        "# Install Spark and Java\r\n",
        "!apt-get update\r\n",
        "!apt-get install openjdk-8-jdk-headless -qq > /dev/null\r\n",
        "!wget -q http://www.apache.org/dist/spark/$SPARK_VERSION/$SPARK_VERSION-bin-hadoop2.7.tgz\r\n",
        "!tar xf $SPARK_VERSION-bin-hadoop2.7.tgz\r\n",
        "!pip install -q findspark\r\n",
        "\r\n",
        "# Set Environment Variables\r\n",
        "import os\r\n",
        "os.environ[\"JAVA_HOME\"] = \"/usr/lib/jvm/java-8-openjdk-amd64\"\r\n",
        "os.environ[\"SPARK_HOME\"] = f\"/content/{spark_version}-bin-hadoop2.7\"\r\n",
        "\r\n",
        "# Start a SparkSession\r\n",
        "import findspark\r\n",
        "findspark.init()"
      ],
      "outputs": [
        {
          "output_type": "stream",
          "name": "stdout",
          "text": [
            "\r0% [Working]\r            \rGet:1 http://ppa.launchpad.net/c2d4u.team/c2d4u4.0+/ubuntu bionic InRelease [15.9 kB]\n",
            "\r0% [Connecting to archive.ubuntu.com (91.189.88.152)] [Connecting to security.u\r0% [Waiting for headers] [Connecting to security.ubuntu.com (91.189.91.38)] [Co\r                                                                               \rHit:2 http://archive.ubuntu.com/ubuntu bionic InRelease\n",
            "\r                                                                               \rGet:3 http://archive.ubuntu.com/ubuntu bionic-updates InRelease [88.7 kB]\n",
            "\r                                                                               \rHit:4 http://ppa.launchpad.net/cran/libgit2/ubuntu bionic InRelease\n",
            "\r0% [3 InRelease 15.6 kB/88.7 kB 18%] [Connecting to security.ubuntu.com (91.189\r0% [1 InRelease gpgv 15.9 kB] [3 InRelease 15.6 kB/88.7 kB 18%] [Connecting to \r                                                                               \rGet:5 https://cloud.r-project.org/bin/linux/ubuntu bionic-cran40/ InRelease [3,626 B]\n",
            "\r0% [1 InRelease gpgv 15.9 kB] [3 InRelease 35.9 kB/88.7 kB 40%] [Waiting for he\r0% [1 InRelease gpgv 15.9 kB] [3 InRelease 35.9 kB/88.7 kB 40%] [Waiting for he\r                                                                               \rHit:6 http://ppa.launchpad.net/deadsnakes/ppa/ubuntu bionic InRelease\n",
            "Get:7 http://ppa.launchpad.net/graphics-drivers/ppa/ubuntu bionic InRelease [21.3 kB]\n",
            "Get:8 http://archive.ubuntu.com/ubuntu bionic-backports InRelease [74.6 kB]\n",
            "Get:9 http://security.ubuntu.com/ubuntu bionic-security InRelease [88.7 kB]\n",
            "Ign:10 https://developer.download.nvidia.com/compute/cuda/repos/ubuntu1804/x86_64  InRelease\n",
            "Ign:11 https://developer.download.nvidia.com/compute/machine-learning/repos/ubuntu1804/x86_64  InRelease\n",
            "Hit:12 https://developer.download.nvidia.com/compute/cuda/repos/ubuntu1804/x86_64  Release\n",
            "Hit:13 https://developer.download.nvidia.com/compute/machine-learning/repos/ubuntu1804/x86_64  Release\n",
            "Get:14 http://ppa.launchpad.net/c2d4u.team/c2d4u4.0+/ubuntu bionic/main Sources [1,802 kB]\n",
            "Get:15 http://ppa.launchpad.net/c2d4u.team/c2d4u4.0+/ubuntu bionic/main amd64 Packages [922 kB]\n",
            "Get:16 https://cloud.r-project.org/bin/linux/ubuntu bionic-cran40/ Packages [67.9 kB]\n",
            "Get:17 http://archive.ubuntu.com/ubuntu bionic-updates/main amd64 Packages [2,787 kB]\n",
            "Get:19 http://ppa.launchpad.net/graphics-drivers/ppa/ubuntu bionic/main amd64 Packages [42.0 kB]\n",
            "Get:21 http://archive.ubuntu.com/ubuntu bionic-updates/universe amd64 Packages [2,202 kB]\n",
            "Get:22 http://security.ubuntu.com/ubuntu bionic-security/restricted amd64 Packages [581 kB]\n",
            "Get:23 http://security.ubuntu.com/ubuntu bionic-security/main amd64 Packages [2,335 kB]\n",
            "Get:24 http://security.ubuntu.com/ubuntu bionic-security/universe amd64 Packages [1,428 kB]\n",
            "Get:25 http://archive.ubuntu.com/ubuntu bionic-updates/restricted amd64 Packages [627 kB]\n",
            "Fetched 13.1 MB in 5s (2,475 kB/s)\n",
            "Reading package lists... Done\n"
          ]
        }
      ],
      "metadata": {
        "colab": {
          "base_uri": "https://localhost:8080/"
        },
        "id": "wjSjCp4jJQoN",
        "outputId": "95bee7bf-1699-4ec2-8a36-5d29533fd2a1"
      }
    },
    {
      "cell_type": "code",
      "execution_count": 3,
      "source": [
        "!wget https://jdbc.postgresql.org/download/postgresql-42.2.9.jar"
      ],
      "outputs": [
        {
          "output_type": "stream",
          "name": "stdout",
          "text": [
            "--2021-09-27 16:47:43--  https://jdbc.postgresql.org/download/postgresql-42.2.9.jar\n",
            "Resolving jdbc.postgresql.org (jdbc.postgresql.org)... 72.32.157.228, 2001:4800:3e1:1::228\n",
            "Connecting to jdbc.postgresql.org (jdbc.postgresql.org)|72.32.157.228|:443... connected.\n",
            "HTTP request sent, awaiting response... 200 OK\n",
            "Length: 914037 (893K) [application/java-archive]\n",
            "Saving to: ‘postgresql-42.2.9.jar.1’\n",
            "\n",
            "postgresql-42.2.9.j 100%[===================>] 892.61K  1.77MB/s    in 0.5s    \n",
            "\n",
            "2021-09-27 16:47:45 (1.77 MB/s) - ‘postgresql-42.2.9.jar.1’ saved [914037/914037]\n",
            "\n"
          ]
        }
      ],
      "metadata": {
        "colab": {
          "base_uri": "https://localhost:8080/"
        },
        "id": "fNFyz_zeJeL6",
        "outputId": "813b2dff-70a2-4515-c002-cf18f944dcd8"
      }
    },
    {
      "cell_type": "code",
      "execution_count": 5,
      "source": [
        "from pyspark.sql import SparkSession\r\n",
        "spark = SparkSession.builder.appName(\"CloudETL\").config(\"spark.driver.extraClassPath\",\"/content/postgresql-42.2.9.jar\").getOrCreate()"
      ],
      "outputs": [],
      "metadata": {
        "id": "N4MxUUcaJigS"
      }
    },
    {
      "cell_type": "code",
      "execution_count": 7,
      "source": [
        "from pyspark import SparkFiles\r\n",
        "url = \"https://s3.amazonaws.com/amazon-reviews-pds/tsv/amazon_reviews_us_Camera_v1_00.tsv.gz\"\r\n",
        "spark.sparkContext.addFile(url)\r\n",
        "cameras_df = spark.read.csv(SparkFiles.get(\"amazon_reviews_us_Camera_v1_00.tsv.gz\"), sep=\"\\t\", header=True)\r\n",
        "cameras_df.show()"
      ],
      "outputs": [
        {
          "output_type": "stream",
          "name": "stdout",
          "text": [
            "+-----------+-----------+--------------+----------+--------------+--------------------+----------------+-----------+-------------+-----------+----+-----------------+--------------------+--------------------+-----------+\n",
            "|marketplace|customer_id|     review_id|product_id|product_parent|       product_title|product_category|star_rating|helpful_votes|total_votes|vine|verified_purchase|     review_headline|         review_body|review_date|\n",
            "+-----------+-----------+--------------+----------+--------------+--------------------+----------------+-----------+-------------+-----------+----+-----------------+--------------------+--------------------+-----------+\n",
            "|         US|    2975964|R1NBG94582SJE2|B00I01JQJM|     860486164|GoPro Rechargeabl...|          Camera|          5|            0|          0|   N|                Y|          Five Stars|                  ok| 2015-08-31|\n",
            "|         US|   23526356|R273DCA6Y0H9V7|B00TCO0ZAA|     292641483|Professional 58mm...|          Camera|          5|            0|          0|   N|                Y|          Love it!!!|Perfect, even stu...| 2015-08-31|\n",
            "|         US|   52764145| RQVOXO7WUOFK6|B00B7733E0|      75825744|Spy Tec Z12 Motio...|          Camera|          2|            1|          1|   N|                Y|Another Motion De...|If the words, &#3...| 2015-08-31|\n",
            "|         US|   47348933|R1KWKSF21PO6HO|B006ZN4U34|     789352955|Celestron UpClose...|          Camera|          5|            0|          0|   N|                Y|Exactly what I wa...|Exactly what I wa...| 2015-08-31|\n",
            "|         US|   33680700|R38H3UO1J190GI|B00HUEBGMU|      19067902|Vidpro XM-L Wired...|          Camera|          5|            1|          1|   N|                Y|Good mic at a Goo...|I will look past ...| 2015-08-31|\n",
            "|         US|   30301059|R3NPIFKLR19NQA|B008MW6Y12|     597683407|NIX 8 inch Hi-Res...|          Camera|          3|            0|          0|   N|                Y|The controls are ...|The controls are ...| 2015-08-31|\n",
            "|         US|   28282645|R3MBE6UCH3435E|B00TE8XKIS|      35563334|Polaroid ZIP Mobi...|          Camera|          3|            8|          8|   N|                N|Fun toy for makin...|The printer came ...| 2015-08-31|\n",
            "|         US|     502818|R2E7A4FF0PVY5Q|B00ZKDUFBQ|     555190742|GeekPro 2.0-Inch ...|          Camera|          5|            0|          1|   N|                Y|          Five Stars|Great camera for ...| 2015-08-31|\n",
            "|         US|    1481233| R3R8JDQ2BF4NM|B010BZ7S2Q|     129544315|Sony HDR-AZ1VR Ac...|          Camera|          5|            0|          2|   N|                Y|          Five Stars|Product is very g...| 2015-08-31|\n",
            "|         US|   27885926|R1YND4BS823GN5|B00HRXSSRA|     708418657|ChiliPower DMW-BL...|          Camera|          1|            0|          0|   N|                Y|              Sucky.|Lasted a few hour...| 2015-08-31|\n",
            "|         US|    3183883|R2TZNSA18V7YF6|B005C95NM4|     246957815|Zeikos Deluxe Fla...|          Camera|          4|            1|          1|   N|                Y|Hand Hold Bracket...|I needed the flas...| 2015-08-31|\n",
            "|         US|   23208852|R22ZVRDPPXIDNL|B00LBIBYBE|     746593019|  GoPro Hero Filters|          Camera|          5|            0|          0|   N|                Y|          Five Stars|Use these all the...| 2015-08-31|\n",
            "|         US|   11438825|R1F4O6WOO2W461|B00X3HIM2U|     444991975|Neewer Meike MK-X...|          Camera|          3|            3|          3|   N|                Y|Can't grip the ba...|Same issue as oth...| 2015-08-31|\n",
            "|         US|   50399582| RT1KLS3QSJNUT|B00KDVQF8W|     304104050|LB Photography Ba...|          Camera|          5|            4|          4|   N|                Y|Super pleased wit...|Super pleased wit...| 2015-08-31|\n",
            "|         US|   36700181|R222VYJL5K5IRS|B00GUZEZL4|     472875794|Waterproof Camera...|          Camera|          5|            0|          0|   N|                Y|    Excellent value!|These float wrist...| 2015-08-31|\n",
            "|         US|   47818374|R31LUR7M4PQOLU|B00FB1TBKS|     710827451|Ecolink Z-Wave PI...|          Camera|          5|            0|          0|   N|                Y|       great product|very good on batt...| 2015-08-31|\n",
            "|         US|   35272750|R1OD3T3Q042LUQ|B00GVMLPT6|     269896170|FotoTech Male to ...|          Camera|          2|            0|          0|   N|                Y|           Two Stars|im not happy, the...| 2015-08-31|\n",
            "|         US|   11736306|R2QT68OZTT2YKE|B00L8827BI|     145946775|Nikon D3200 Ultim...|          Camera|          5|            0|          0|   N|                Y|          Five Stars|It is a very good...| 2015-08-31|\n",
            "|         US|   52377008| RMFQF59FG3TD1|B00SIM78R0|     972011051|D-Link Wireless D...|          Camera|          4|            0|          0|   N|                Y|Nice camera, not ...|Nice camera for t...| 2015-08-31|\n",
            "|         US|    6465510|R1QNYFW6G31R5T|B00EDCZKJ2|     258297575|ZINK Phone Photo ...|          Camera|          1|            1|          3|   N|                N|        Never Agian.|If I could leave ...| 2015-08-31|\n",
            "+-----------+-----------+--------------+----------+--------------+--------------------+----------------+-----------+-------------+-----------+----+-----------------+--------------------+--------------------+-----------+\n",
            "only showing top 20 rows\n",
            "\n"
          ]
        }
      ],
      "metadata": {
        "colab": {
          "base_uri": "https://localhost:8080/"
        },
        "id": "TLMQctV9J_QC",
        "outputId": "e7bffb9a-eb8e-41b7-d0f9-ead68bcb8722"
      }
    },
    {
      "cell_type": "markdown",
      "source": [
        "Drop na and duplicates"
      ],
      "metadata": {
        "id": "dAKRMAanLykz"
      }
    },
    {
      "cell_type": "code",
      "execution_count": 8,
      "source": [
        "cameras_df = cameras_df.dropna()\n",
        "cameras_df = cameras_df.dropDuplicates()"
      ],
      "outputs": [],
      "metadata": {
        "id": "JnaaYpyIKP1b"
      }
    },
    {
      "cell_type": "markdown",
      "source": [
        "Schema - Cameras_df"
      ],
      "metadata": {
        "id": "ttYJaFvGLo9D"
      }
    },
    {
      "cell_type": "code",
      "execution_count": 9,
      "source": [
        "cameras_df.printSchema()"
      ],
      "outputs": [
        {
          "output_type": "stream",
          "name": "stdout",
          "text": [
            "root\n",
            " |-- marketplace: string (nullable = true)\n",
            " |-- customer_id: string (nullable = true)\n",
            " |-- review_id: string (nullable = true)\n",
            " |-- product_id: string (nullable = true)\n",
            " |-- product_parent: string (nullable = true)\n",
            " |-- product_title: string (nullable = true)\n",
            " |-- product_category: string (nullable = true)\n",
            " |-- star_rating: string (nullable = true)\n",
            " |-- helpful_votes: string (nullable = true)\n",
            " |-- total_votes: string (nullable = true)\n",
            " |-- vine: string (nullable = true)\n",
            " |-- verified_purchase: string (nullable = true)\n",
            " |-- review_headline: string (nullable = true)\n",
            " |-- review_body: string (nullable = true)\n",
            " |-- review_date: string (nullable = true)\n",
            "\n"
          ]
        }
      ],
      "metadata": {
        "colab": {
          "base_uri": "https://localhost:8080/"
        },
        "id": "sceItpMZKiu6",
        "outputId": "1a95131a-e039-4c19-e752-04462a277eb9"
      }
    },
    {
      "cell_type": "markdown",
      "source": [
        "Recast customer_id, product_parent, star_rating, helpful_votes, total_votes as IntegerType"
      ],
      "metadata": {
        "id": "OW8pt43EKmbL"
      }
    },
    {
      "cell_type": "code",
      "execution_count": 10,
      "source": [
        "from pyspark.sql.types import IntegerType\n",
        "cameras_df = cameras_df.withColumn(\"customer_id\",cameras_df[\"customer_id\"].cast(IntegerType()))\n",
        "cameras_df = cameras_df.withColumn(\"product_parent\",cameras_df[\"product_parent\"].cast(IntegerType()))\n",
        "cameras_df = cameras_df.withColumn(\"star_rating\",cameras_df[\"star_rating\"].cast(IntegerType()))\n",
        "cameras_df = cameras_df.withColumn(\"helpful_votes\",cameras_df[\"helpful_votes\"].cast(IntegerType()))\n",
        "cameras_df = cameras_df.withColumn(\"total_votes\",cameras_df[\"total_votes\"].cast(IntegerType()))"
      ],
      "outputs": [],
      "metadata": {
        "id": "UGQMgk3hKsaM"
      }
    },
    {
      "cell_type": "code",
      "execution_count": 11,
      "source": [
        "print(cameras_df.select(\"customer_id\").dtypes)\n",
        "print(cameras_df.select(\"product_parent\").dtypes)\n",
        "print(cameras_df.select(\"star_rating\").dtypes)\n",
        "print(cameras_df.select(\"helpful_votes\").dtypes)\n",
        "print(cameras_df.select(\"total_votes\").dtypes)"
      ],
      "outputs": [
        {
          "output_type": "stream",
          "name": "stdout",
          "text": [
            "[('customer_id', 'int')]\n",
            "[('product_parent', 'int')]\n",
            "[('star_rating', 'int')]\n",
            "[('helpful_votes', 'int')]\n",
            "[('total_votes', 'int')]\n"
          ]
        }
      ],
      "metadata": {
        "colab": {
          "base_uri": "https://localhost:8080/"
        },
        "id": "bCy2u97xK_sk",
        "outputId": "d269b8d8-ba2b-4fe2-bd00-a9b584235988"
      }
    },
    {
      "cell_type": "code",
      "execution_count": 16,
      "source": [
        "cameras_df.printSchema()"
      ],
      "outputs": [
        {
          "output_type": "stream",
          "name": "stdout",
          "text": [
            "root\n",
            " |-- marketplace: string (nullable = true)\n",
            " |-- customer_id: integer (nullable = true)\n",
            " |-- review_id: string (nullable = true)\n",
            " |-- product_id: string (nullable = true)\n",
            " |-- product_parent: integer (nullable = true)\n",
            " |-- product_title: string (nullable = true)\n",
            " |-- product_category: string (nullable = true)\n",
            " |-- star_rating: integer (nullable = true)\n",
            " |-- helpful_votes: integer (nullable = true)\n",
            " |-- total_votes: integer (nullable = true)\n",
            " |-- vine: string (nullable = true)\n",
            " |-- verified_purchase: string (nullable = true)\n",
            " |-- review_headline: string (nullable = true)\n",
            " |-- review_body: string (nullable = true)\n",
            " |-- review_date: string (nullable = true)\n",
            "\n"
          ]
        }
      ],
      "metadata": {
        "colab": {
          "base_uri": "https://localhost:8080/"
        },
        "id": "9jxSzsbqLKPh",
        "outputId": "497e96c7-f43e-48cb-94b8-3aad3f2cbe2e"
      }
    },
    {
      "cell_type": "markdown",
      "source": [
        "Count the number of records in the Database"
      ],
      "metadata": {
        "id": "1Uu_3gzxLUUM"
      }
    },
    {
      "cell_type": "code",
      "execution_count": 17,
      "source": [
        "# Row Count\n",
        "cameras_df.count()"
      ],
      "outputs": [
        {
          "output_type": "execute_result",
          "data": {
            "text/plain": [
              "1801849"
            ]
          },
          "metadata": {},
          "execution_count": 17
        }
      ],
      "metadata": {
        "colab": {
          "base_uri": "https://localhost:8080/"
        },
        "id": "U_s32jnRLQTR",
        "outputId": "2106c3cf-6fb3-4d3b-c90e-f04f664fbcf5"
      }
    },
    {
      "cell_type": "markdown",
      "source": [
        "Transform the dataset to fit the tables in the schema file"
      ],
      "metadata": {
        "id": "TUqsVjZeLacR"
      }
    },
    {
      "cell_type": "code",
      "execution_count": 18,
      "source": [
        "from pyspark.sql.functions import to_date\n",
        "# DataFrame\n",
        "review_id = cameras_df.select([\"review_id\", \"customer_id\", \"product_id\", \"product_parent\", to_date(\"review_date\", 'yyyy-MM-dd').alias(\"review_date\")])\n",
        "review_id.show()"
      ],
      "outputs": [
        {
          "output_type": "stream",
          "name": "stdout",
          "text": [
            "+--------------+-----------+----------+--------------+-----------+\n",
            "|     review_id|customer_id|product_id|product_parent|review_date|\n",
            "+--------------+-----------+----------+--------------+-----------+\n",
            "|R1006EGZ9CPJP5|   42900361|B00M07I2YC|     645536663| 2015-01-01|\n",
            "| R1014HFB7LT6D|   46413833|B005HY4TXS|     810992030| 2012-12-13|\n",
            "|R101EWV42EDDZ3|   16227012|B00009R6FV|     408598223| 2014-05-12|\n",
            "|R102BEG999GARX|   13929688|B001TSSOQY|     330601228| 2012-04-10|\n",
            "|R103A1CV3F69NS|   47814869|B0048IW030|     990185820| 2013-08-12|\n",
            "|R104HWMYBVOGGY|   35751178|B000P41DVG|     855766027| 2010-04-12|\n",
            "|R104JY83ZI0SSX|   12418820|B0044XAXLU|     783331329| 2014-04-15|\n",
            "|R104UXCOW5V7AF|   21868179|B00005RH7M|      61995094| 2008-06-30|\n",
            "|R1052PBM1E3ZX6|   21278613|B00OT7W6VQ|     840491020| 2015-03-29|\n",
            "|R1052RLYZT120F|   23296488|B001196MG0|     250259634| 2012-07-07|\n",
            "|R10584T58O3B5Y|   44752014|B005W17OPG|     754257369| 2014-02-06|\n",
            "|R1067QRZHX62NI|   10810208|B0076YO2CA|     468407985| 2014-08-16|\n",
            "|R106E4HEWBPHFQ|   24609664|B000A22V6Y|     267646097| 2008-04-05|\n",
            "|R106XP4LMRZ88N|   14072719|B0069R7FFQ|     776752108| 2014-08-17|\n",
            "|R107E48TKD8S22|   52729625|B0096EQD7U|      24809937| 2013-08-07|\n",
            "|R107XUBEHEDIM0|   39535657|B0036AYTWG|      43554577| 2012-11-03|\n",
            "|R108J94Z5V4NU8|   37568130|B0032GX23Q|     111685638| 2010-09-17|\n",
            "|R108O042J3I4NG|   41804058|B000A2I3AM|     941651876| 2012-11-19|\n",
            "|R108TXGHL9ROY0|   52207977|B000FD8MJS|     366379662| 2006-11-22|\n",
            "|R1091RGKNCFPY9|   30100638|B0073HSJ8S|     494758845| 2013-05-20|\n",
            "+--------------+-----------+----------+--------------+-----------+\n",
            "only showing top 20 rows\n",
            "\n"
          ]
        }
      ],
      "metadata": {
        "colab": {
          "base_uri": "https://localhost:8080/"
        },
        "id": "OphXvkYFNBUz",
        "outputId": "d5e4f9a2-b2f2-4d93-9191-f956ae1a0f3d"
      }
    },
    {
      "cell_type": "code",
      "execution_count": 19,
      "source": [
        "from pyspark import SparkFiles\n",
        "# DataFrame\n",
        "products = cameras_df.select([\"product_id\", \"product_title\"])\n",
        "products = products.drop_duplicates([\"product_id\", \"product_title\"])\n",
        "products.show()"
      ],
      "outputs": [
        {
          "output_type": "stream",
          "name": "stdout",
          "text": [
            "+----------+--------------------+\n",
            "|product_id|       product_title|\n",
            "+----------+--------------------+\n",
            "|B00L6CBM4E|Manfrotto MKCOMPA...|\n",
            "|B00006JPWW|Panasonic AY-DVMC...|\n",
            "|B0006GDHLC|Energizer(R) 1.5-...|\n",
            "|B00RELNT2E|Kastar Charger, B...|\n",
            "|B00554PCDG|Pixel Flash Hot S...|\n",
            "|B001SER4CO|Canon Powershot A480|\n",
            "|B0030TYVPI|Traffic Light 4-P...|\n",
            "|B000MXLAFO|Casio Exilim EXZ7...|\n",
            "|B0007IOYU2|Olympus 7X21 PC I...|\n",
            "|B000SMZDIY|FIREWIRE DV CABLE...|\n",
            "|B003GRHBEM|RainbowImaging Ca...|\n",
            "|B00F0S56BU|Assurant 2-Year C...|\n",
            "|B00005LESG|Canon EF 70-200mm...|\n",
            "|B002VP9M7E|Speck Products IP...|\n",
            "|B00022OB9W|Mustek MDC-5500Z ...|\n",
            "|B001JDD1OE|Canon 50mm F/1.8 ...|\n",
            "|B0009QZDL6|Lastolite LL LR12...|\n",
            "|B0013FDKRG|Home Base with Fa...|\n",
            "|B0000BZL0G|B+W Clear UV Haze...|\n",
            "|B004CBTCFC|Frio ENLFRC1A Hot...|\n",
            "+----------+--------------------+\n",
            "only showing top 20 rows\n",
            "\n"
          ]
        }
      ],
      "metadata": {
        "colab": {
          "base_uri": "https://localhost:8080/"
        },
        "id": "CuqgF_1NQM9c",
        "outputId": "cc775f43-fdfc-4b07-e235-5056197c72db"
      }
    },
    {
      "cell_type": "code",
      "execution_count": 20,
      "source": [
        "from pyspark import SparkFiles\n",
        "# DataFrame\n",
        "customers = cameras_df.groupby([\"customer_id\"]).count()\n",
        "customers = customers.withColumnRenamed(\"count\", \"customer_count\")\n",
        "customers.show()"
      ],
      "outputs": [
        {
          "output_type": "stream",
          "name": "stdout",
          "text": [
            "+-----------+--------------+\n",
            "|customer_id|customer_count|\n",
            "+-----------+--------------+\n",
            "|   42553481|            11|\n",
            "|   14138259|             4|\n",
            "|   21461921|            11|\n",
            "|   34969000|             1|\n",
            "|    9842436|             2|\n",
            "|   12422616|             3|\n",
            "|   14154756|             2|\n",
            "|   43817031|             4|\n",
            "|   13934198|             1|\n",
            "|   43627964|             1|\n",
            "|   45108886|             1|\n",
            "|   52128920|             2|\n",
            "|   37439895|             1|\n",
            "|   31613429|             1|\n",
            "|   47583650|             1|\n",
            "|   33078812|             1|\n",
            "|   12960226|             5|\n",
            "|   42354937|             3|\n",
            "|   29423910|             1|\n",
            "|   28604485|             2|\n",
            "+-----------+--------------+\n",
            "only showing top 20 rows\n",
            "\n"
          ]
        }
      ],
      "metadata": {
        "colab": {
          "base_uri": "https://localhost:8080/"
        },
        "id": "O7RckpUPQazm",
        "outputId": "9f24b011-199a-4034-e22d-a7f5bad84c81"
      }
    },
    {
      "cell_type": "code",
      "execution_count": 21,
      "source": [
        "from pyspark import SparkFiles\n",
        "vine_table = cameras_df.select([\"review_id\", \"star_rating\", \"helpful_votes\", \"total_votes\", \"vine\"])\n",
        "vine_table.show()"
      ],
      "outputs": [
        {
          "output_type": "stream",
          "name": "stdout",
          "text": [
            "+--------------+-----------+-------------+-----------+----+\n",
            "|     review_id|star_rating|helpful_votes|total_votes|vine|\n",
            "+--------------+-----------+-------------+-----------+----+\n",
            "|R1006EGZ9CPJP5|          5|            1|          1|   N|\n",
            "| R1014HFB7LT6D|          5|            5|          5|   N|\n",
            "|R101EWV42EDDZ3|          5|            1|          1|   N|\n",
            "|R102BEG999GARX|          4|            0|          5|   N|\n",
            "|R103A1CV3F69NS|          5|            0|          0|   N|\n",
            "|R104HWMYBVOGGY|          5|            1|          1|   N|\n",
            "|R104JY83ZI0SSX|          1|            1|          1|   N|\n",
            "|R104UXCOW5V7AF|          5|            0|          0|   N|\n",
            "|R1052PBM1E3ZX6|          5|            0|          0|   N|\n",
            "|R1052RLYZT120F|          5|            0|          0|   N|\n",
            "|R10584T58O3B5Y|          4|            0|          0|   N|\n",
            "|R1067QRZHX62NI|          3|            0|          0|   N|\n",
            "|R106E4HEWBPHFQ|          5|            2|          2|   N|\n",
            "|R106XP4LMRZ88N|          5|            0|          0|   N|\n",
            "|R107E48TKD8S22|          1|            4|          4|   N|\n",
            "|R107XUBEHEDIM0|          5|            0|          0|   N|\n",
            "|R108J94Z5V4NU8|          4|            0|          0|   N|\n",
            "|R108O042J3I4NG|          4|            1|          2|   N|\n",
            "|R108TXGHL9ROY0|          1|            5|          9|   N|\n",
            "|R1091RGKNCFPY9|          5|            0|          0|   N|\n",
            "+--------------+-----------+-------------+-----------+----+\n",
            "only showing top 20 rows\n",
            "\n"
          ]
        }
      ],
      "metadata": {
        "colab": {
          "base_uri": "https://localhost:8080/"
        },
        "id": "HJl5o8pJRJD5",
        "outputId": "f56abf82-7a80-4978-9738-98efb6127874"
      }
    },
    {
      "cell_type": "markdown",
      "source": [
        "Load the Dataframes that correspond to tables into an RDS instance"
      ],
      "metadata": {
        "id": "nbh17N6t69My"
      }
    },
    {
      "cell_type": "code",
      "execution_count": null,
      "source": [
        "mode = 'append'\n",
        "jdbc_url = \"jdbc:postgresql://mypostgresdb.ceomfsf1omq9.us-east-2.rds.amazonaws.com:5432/my_data_class_db_camera\"\n",
        "config = {\n",
        "    'user':'postgres',\n",
        "    'password':'postgres',\n",
        "    'driver':\"org.postgresql.Driver\"\n",
        "}"
      ],
      "outputs": [],
      "metadata": {
        "id": "QMUDUGr_RZo-"
      }
    },
    {
      "cell_type": "code",
      "execution_count": 23,
      "source": [
        "review_id.write.jdbc(url=jdbc_url, table='review_id_table', mode=mode, properties=config)"
      ],
      "outputs": [],
      "metadata": {
        "id": "j-ARp4e4SHTF"
      }
    },
    {
      "cell_type": "code",
      "execution_count": 24,
      "source": [
        "products.write.jdbc(url=jdbc_url, table='products', mode=mode, properties=config)"
      ],
      "outputs": [],
      "metadata": {
        "id": "r6PRleIkSOy4"
      }
    },
    {
      "cell_type": "code",
      "execution_count": 25,
      "source": [
        "customers.write.jdbc(url=jdbc_url, table='customers', mode=mode, properties=config)"
      ],
      "outputs": [],
      "metadata": {
        "id": "PdeFCy3FUdZF"
      }
    },
    {
      "cell_type": "code",
      "execution_count": 26,
      "source": [
        "vine_table.write.jdbc(url=jdbc_url, table='vine_table', mode=mode, properties=config)"
      ],
      "outputs": [],
      "metadata": {
        "id": "-doUrq1ZVoki"
      }
    },
    {
      "cell_type": "code",
      "execution_count": null,
      "source": [],
      "outputs": [],
      "metadata": {
        "id": "dSUbPMiPXNn7"
      }
    }
  ]
}