{
  "nbformat": 4,
  "nbformat_minor": 2,
  "metadata": {
    "colab": {
      "name": "Untitled5.ipynb",
      "provenance": [],
      "collapsed_sections": []
    },
    "kernelspec": {
      "name": "python3",
      "display_name": "Python 3"
    },
    "language_info": {
      "name": "python"
    }
  },
  "cells": [
    {
      "cell_type": "code",
      "execution_count": 49,
      "source": [
        "import os\r\n",
        "# Find the latest version of spark 3.0  from http://www.apache.org/dist/spark/ and enter as the spark version\r\n",
        "# For example:\r\n",
        "# spark_version = 'spark-3.0.3'\r\n",
        "spark_version = 'spark-3.1.2'\r\n",
        "os.environ['SPARK_VERSION']=spark_version\r\n",
        "\r\n",
        "# Install Spark and Java\r\n",
        "!apt-get update\r\n",
        "!apt-get install openjdk-8-jdk-headless -qq > /dev/null\r\n",
        "!wget -q http://www.apache.org/dist/spark/$SPARK_VERSION/$SPARK_VERSION-bin-hadoop2.7.tgz\r\n",
        "!tar xf $SPARK_VERSION-bin-hadoop2.7.tgz\r\n",
        "!pip install -q findspark\r\n",
        "\r\n",
        "# Set Environment Variables\r\n",
        "import os\r\n",
        "os.environ[\"JAVA_HOME\"] = \"/usr/lib/jvm/java-8-openjdk-amd64\"\r\n",
        "os.environ[\"SPARK_HOME\"] = f\"/content/{spark_version}-bin-hadoop2.7\"\r\n",
        "\r\n",
        "# Start a SparkSession\r\n",
        "import findspark\r\n",
        "findspark.init()"
      ],
      "outputs": [
        {
          "output_type": "stream",
          "name": "stdout",
          "text": [
            "\r0% [Working]\r            \rGet:1 http://security.ubuntu.com/ubuntu bionic-security InRelease [88.7 kB]\n",
            "\r0% [Connecting to archive.ubuntu.com (91.189.88.152)] [1 InRelease 14.2 kB/88.7\r                                                                               \rHit:2 https://cloud.r-project.org/bin/linux/ubuntu bionic-cran40/ InRelease\n",
            "Ign:3 https://developer.download.nvidia.com/compute/cuda/repos/ubuntu1804/x86_64  InRelease\n",
            "Ign:4 https://developer.download.nvidia.com/compute/machine-learning/repos/ubuntu1804/x86_64  InRelease\n",
            "Hit:5 https://developer.download.nvidia.com/compute/cuda/repos/ubuntu1804/x86_64  Release\n",
            "Hit:6 https://developer.download.nvidia.com/compute/machine-learning/repos/ubuntu1804/x86_64  Release\n",
            "Hit:7 http://ppa.launchpad.net/c2d4u.team/c2d4u4.0+/ubuntu bionic InRelease\n",
            "Hit:8 http://archive.ubuntu.com/ubuntu bionic InRelease\n",
            "Get:9 http://archive.ubuntu.com/ubuntu bionic-updates InRelease [88.7 kB]\n",
            "Get:12 http://archive.ubuntu.com/ubuntu bionic-backports InRelease [74.6 kB]\n",
            "Hit:13 http://ppa.launchpad.net/cran/libgit2/ubuntu bionic InRelease\n",
            "Hit:14 http://ppa.launchpad.net/deadsnakes/ppa/ubuntu bionic InRelease\n",
            "Hit:15 http://ppa.launchpad.net/graphics-drivers/ppa/ubuntu bionic InRelease\n",
            "Get:16 http://archive.ubuntu.com/ubuntu bionic-updates/universe amd64 Packages [2,202 kB]\n",
            "Get:17 http://archive.ubuntu.com/ubuntu bionic-updates/main amd64 Packages [2,785 kB]\n",
            "Fetched 5,238 kB in 3s (1,500 kB/s)\n",
            "Reading package lists... Done\n"
          ]
        }
      ],
      "metadata": {
        "colab": {
          "base_uri": "https://localhost:8080/"
        },
        "id": "6_jeh7e7Q4nH",
        "outputId": "c38b3d81-2454-45aa-b02d-455d33d20f2c"
      }
    },
    {
      "cell_type": "code",
      "execution_count": 50,
      "source": [
        "!wget https://jdbc.postgresql.org/download/postgresql-42.2.9.jar"
      ],
      "outputs": [
        {
          "output_type": "stream",
          "name": "stdout",
          "text": [
            "--2021-09-27 16:00:09--  https://jdbc.postgresql.org/download/postgresql-42.2.9.jar\n",
            "Resolving jdbc.postgresql.org (jdbc.postgresql.org)... 72.32.157.228, 2001:4800:3e1:1::228\n",
            "Connecting to jdbc.postgresql.org (jdbc.postgresql.org)|72.32.157.228|:443... connected.\n",
            "HTTP request sent, awaiting response... 200 OK\n",
            "Length: 914037 (893K) [application/java-archive]\n",
            "Saving to: ‘postgresql-42.2.9.jar.1’\n",
            "\n",
            "postgresql-42.2.9.j 100%[===================>] 892.61K  --.-KB/s    in 0.08s   \n",
            "\n",
            "2021-09-27 16:00:10 (10.4 MB/s) - ‘postgresql-42.2.9.jar.1’ saved [914037/914037]\n",
            "\n"
          ]
        }
      ],
      "metadata": {
        "colab": {
          "base_uri": "https://localhost:8080/"
        },
        "id": "HUVdyv-ERvJN",
        "outputId": "d1777f5a-f0c4-4caf-eb16-f306ee6f78f8"
      }
    },
    {
      "cell_type": "code",
      "execution_count": 51,
      "source": [
        "from pyspark.sql import SparkSession\r\n",
        "spark = SparkSession.builder.appName(\"CloudETL\").config(\"spark.driver.extraClassPath\",\"/content/postgresql-42.2.9.jar\").getOrCreate()"
      ],
      "outputs": [],
      "metadata": {
        "id": "xtKBkjYgR0zh"
      }
    },
    {
      "cell_type": "code",
      "execution_count": 52,
      "source": [
        "from pyspark import SparkFiles\r\n",
        "url = \"https://s3.amazonaws.com/amazon-reviews-pds/tsv/amazon_reviews_us_Watches_v1_00.tsv.gz\"\r\n",
        "spark.sparkContext.addFile(url)\r\n",
        "watches_df = spark.read.csv(SparkFiles.get(\"amazon_reviews_us_Watches_v1_00.tsv.gz\"), sep=\"\\t\", header=True)\r\n",
        "watches_df.show()"
      ],
      "outputs": [
        {
          "output_type": "stream",
          "name": "stdout",
          "text": [
            "+-----------+-----------+--------------+----------+--------------+--------------------+----------------+-----------+-------------+-----------+----+-----------------+--------------------+--------------------+-----------+\n",
            "|marketplace|customer_id|     review_id|product_id|product_parent|       product_title|product_category|star_rating|helpful_votes|total_votes|vine|verified_purchase|     review_headline|         review_body|review_date|\n",
            "+-----------+-----------+--------------+----------+--------------+--------------------+----------------+-----------+-------------+-----------+----+-----------------+--------------------+--------------------+-----------+\n",
            "|         US|    3653882|R3O9SGZBVQBV76|B00FALQ1ZC|     937001370|Invicta Women's 1...|         Watches|          5|            0|          0|   N|                Y|          Five Stars|Absolutely love t...| 2015-08-31|\n",
            "|         US|   14661224| RKH8BNC3L5DLF|B00D3RGO20|     484010722|Kenneth Cole New ...|         Watches|          5|            0|          0|   N|                Y|I love thiswatch ...|I love this watch...| 2015-08-31|\n",
            "|         US|   27324930|R2HLE8WKZSU3NL|B00DKYC7TK|     361166390|Ritche 22mm Black...|         Watches|          2|            1|          1|   N|                Y|           Two Stars|           Scratches| 2015-08-31|\n",
            "|         US|    7211452|R31U3UH5AZ42LL|B000EQS1JW|     958035625|Citizen Men's BM8...|         Watches|          5|            0|          0|   N|                Y|          Five Stars|It works well on ...| 2015-08-31|\n",
            "|         US|   12733322|R2SV659OUJ945Y|B00A6GFD7S|     765328221|Orient ER27009B M...|         Watches|          4|            0|          0|   N|                Y|Beautiful face, b...|Beautiful watch f...| 2015-08-31|\n",
            "|         US|    6576411| RA51CP8TR5A2L|B00EYSOSE8|     230493695|Casio Men's GW-94...|         Watches|          5|            0|          0|   N|                Y|       No complaints|i love this watch...| 2015-08-31|\n",
            "|         US|   11811565| RB2Q7DLDN6TH6|B00WM0QA3M|     549298279|Fossil Women's ES...|         Watches|          5|            1|          1|   N|                Y|          Five Stars|for my wife and s...| 2015-08-31|\n",
            "|         US|   49401598|R2RHFJV0UYBK3Y|B00A4EYBR0|     844009113|INFANTRY Mens Nig...|         Watches|          1|            1|          5|   N|                N|I was about to bu...|I was about to bu...| 2015-08-31|\n",
            "|         US|   45925069|R2Z6JOQ94LFHEP|B00MAMPGGE|     263720892|G-Shock Men's Gre...|         Watches|          5|            1|          2|   N|                Y|      Perfect watch!|Watch is perfect....| 2015-08-31|\n",
            "|         US|   44751341| RX27XIIWY5JPB|B004LBPB7Q|     124278407|Heiden Quad Watch...|         Watches|          4|            0|          0|   N|                Y|Great quality and...|Great quality and...| 2015-08-31|\n",
            "|         US|    9962330|R15C7QEZT0LGZN|B00KGTVGKS|      28017857|Fossil Women's ES...|         Watches|          4|            2|          2|   N|                Y|           Satisfied|The watch was pre...| 2015-08-31|\n",
            "|         US|   16097204|R361XSS37V0NCZ|B0039UT5OU|     685450910|Casio General Men...|         Watches|          1|            0|          0|   N|                N|I do not think th...|I bought this wat...| 2015-08-31|\n",
            "|         US|   51330346| ROTNLALUAJAUB|B00MPF0XJQ|     767769082|2Tone Gold Silver...|         Watches|          3|            0|          0|   N|                Y|         Three Stars|It is a cheap wat...| 2015-08-31|\n",
            "|         US|    4201739|R2DYX7QU6BGOHR|B003P1OHHS|     648595227|Bulova Men's 98B1...|         Watches|          5|            0|          0|   N|                Y|          Five Stars|Heavier than i th...| 2015-08-31|\n",
            "|         US|   26339765| RWASY7FKI7QOT|B00R70YEOE|     457338020|Casio - G-Shock -...|         Watches|          5|            2|          3|   N|                Y|  Worth it - love it|Had it for severa...| 2015-08-31|\n",
            "|         US|    2692576|R2KKYZIN3CCL21|B000FVE3BG|     824370661|Invicta Men's 332...|         Watches|          5|            0|          0|   N|                Y|This is when diff...|This one is diffe...| 2015-08-31|\n",
            "|         US|   44713366|R22H4FGVD5O52O|B008X6JB12|     814431355|Seiko Women's SUT...|         Watches|          4|            1|          1|   N|                Y|Thewatch is attra...|The watch is attr...| 2015-08-31|\n",
            "|         US|   32778769|R11UACZERCM4ZY|B0040UOFPW|     187700878|Anne Klein Women'...|         Watches|          5|            0|          0|   N|                Y|          Five Stars|      said my wife..| 2015-08-31|\n",
            "|         US|   27258523|R1AT8NQ38UQOL6|B00UR2R5UY|     594315262|Guess U13630G1 Me...|         Watches|          5|            0|          0|   N|                Y|          Five Stars|Nice watch, on ti...| 2015-08-31|\n",
            "|         US|   42646538|R2NCZRQGIF1Q75|B00HFF57L0|     520810507|Nixon Men's Geo V...|         Watches|          4|            0|          0|   N|                Y|        Very stylish|Looks great and l...| 2015-08-31|\n",
            "+-----------+-----------+--------------+----------+--------------+--------------------+----------------+-----------+-------------+-----------+----+-----------------+--------------------+--------------------+-----------+\n",
            "only showing top 20 rows\n",
            "\n"
          ]
        }
      ],
      "metadata": {
        "id": "WKvjblB_PCR3",
        "colab": {
          "base_uri": "https://localhost:8080/"
        },
        "outputId": "1c8713ed-6f89-405d-f9c0-7773ab48a42a"
      }
    },
    {
      "cell_type": "markdown",
      "source": [
        "Drop na and duplicates"
      ],
      "metadata": {
        "id": "2Rgg6uc8-2FE"
      }
    },
    {
      "cell_type": "code",
      "execution_count": 53,
      "source": [
        "watches_df = watches_df.dropna()\n",
        "watches_df = watches_df.dropDuplicates()"
      ],
      "outputs": [],
      "metadata": {
        "id": "-WVVaM5Y-kNW"
      }
    },
    {
      "cell_type": "markdown",
      "source": [
        "Schema - Watches_df"
      ],
      "metadata": {
        "id": "PBbcBwYdpvel"
      }
    },
    {
      "cell_type": "code",
      "execution_count": 54,
      "source": [
        "watches_df.printSchema()"
      ],
      "outputs": [
        {
          "output_type": "stream",
          "name": "stdout",
          "text": [
            "root\n",
            " |-- marketplace: string (nullable = true)\n",
            " |-- customer_id: string (nullable = true)\n",
            " |-- review_id: string (nullable = true)\n",
            " |-- product_id: string (nullable = true)\n",
            " |-- product_parent: string (nullable = true)\n",
            " |-- product_title: string (nullable = true)\n",
            " |-- product_category: string (nullable = true)\n",
            " |-- star_rating: string (nullable = true)\n",
            " |-- helpful_votes: string (nullable = true)\n",
            " |-- total_votes: string (nullable = true)\n",
            " |-- vine: string (nullable = true)\n",
            " |-- verified_purchase: string (nullable = true)\n",
            " |-- review_headline: string (nullable = true)\n",
            " |-- review_body: string (nullable = true)\n",
            " |-- review_date: string (nullable = true)\n",
            "\n"
          ]
        }
      ],
      "metadata": {
        "id": "NxU171AEpkFS",
        "colab": {
          "base_uri": "https://localhost:8080/"
        },
        "outputId": "7528c867-40f7-4c4e-ffe1-c1f678cac5a8"
      }
    },
    {
      "cell_type": "markdown",
      "source": [
        "Recast customer_id, product_parent, star_rating, helpful_votes, total_votes as IntegerType"
      ],
      "metadata": {
        "id": "eursoTea3Rdn"
      }
    },
    {
      "cell_type": "code",
      "execution_count": 55,
      "source": [
        "from pyspark.sql.types import IntegerType\n",
        "watches_df = watches_df.withColumn(\"customer_id\",watches_df[\"customer_id\"].cast(IntegerType()))\n",
        "watches_df = watches_df.withColumn(\"product_parent\",watches_df[\"product_parent\"].cast(IntegerType()))\n",
        "watches_df = watches_df.withColumn(\"star_rating\",watches_df[\"star_rating\"].cast(IntegerType()))\n",
        "watches_df = watches_df.withColumn(\"helpful_votes\",watches_df[\"helpful_votes\"].cast(IntegerType()))\n",
        "watches_df = watches_df.withColumn(\"total_votes\",watches_df[\"total_votes\"].cast(IntegerType()))"
      ],
      "outputs": [],
      "metadata": {
        "id": "ypK2BhD73Pmg"
      }
    },
    {
      "cell_type": "code",
      "execution_count": 56,
      "source": [
        "print(watches_df.select(\"customer_id\").dtypes)\n",
        "print(watches_df.select(\"product_parent\").dtypes)\n",
        "print(watches_df.select(\"star_rating\").dtypes)\n",
        "print(watches_df.select(\"helpful_votes\").dtypes)\n",
        "print(watches_df.select(\"total_votes\").dtypes)"
      ],
      "outputs": [
        {
          "output_type": "stream",
          "name": "stdout",
          "text": [
            "[('customer_id', 'int')]\n",
            "[('product_parent', 'int')]\n",
            "[('star_rating', 'int')]\n",
            "[('helpful_votes', 'int')]\n",
            "[('total_votes', 'int')]\n"
          ]
        }
      ],
      "metadata": {
        "colab": {
          "base_uri": "https://localhost:8080/"
        },
        "id": "0Sz2tK6632zg",
        "outputId": "cad45443-320a-40f3-d7bd-1e4744c12525"
      }
    },
    {
      "cell_type": "code",
      "execution_count": 57,
      "source": [
        "watches_df.printSchema()"
      ],
      "outputs": [
        {
          "output_type": "stream",
          "name": "stdout",
          "text": [
            "root\n",
            " |-- marketplace: string (nullable = true)\n",
            " |-- customer_id: integer (nullable = true)\n",
            " |-- review_id: string (nullable = true)\n",
            " |-- product_id: string (nullable = true)\n",
            " |-- product_parent: integer (nullable = true)\n",
            " |-- product_title: string (nullable = true)\n",
            " |-- product_category: string (nullable = true)\n",
            " |-- star_rating: integer (nullable = true)\n",
            " |-- helpful_votes: integer (nullable = true)\n",
            " |-- total_votes: integer (nullable = true)\n",
            " |-- vine: string (nullable = true)\n",
            " |-- verified_purchase: string (nullable = true)\n",
            " |-- review_headline: string (nullable = true)\n",
            " |-- review_body: string (nullable = true)\n",
            " |-- review_date: string (nullable = true)\n",
            "\n"
          ]
        }
      ],
      "metadata": {
        "id": "94Ociv_I5lNL",
        "colab": {
          "base_uri": "https://localhost:8080/"
        },
        "outputId": "db04222a-7eac-460e-d8e0-2fea5ef11419"
      }
    },
    {
      "cell_type": "markdown",
      "source": [
        "Count the number of records in the Database"
      ],
      "metadata": {
        "id": "L0bp9_Xah0q8"
      }
    },
    {
      "cell_type": "code",
      "execution_count": 58,
      "source": [
        "# Row Count\n",
        "watches_df.count()"
      ],
      "outputs": [
        {
          "output_type": "execute_result",
          "data": {
            "text/plain": [
              "960679"
            ]
          },
          "metadata": {},
          "execution_count": 58
        }
      ],
      "metadata": {
        "colab": {
          "base_uri": "https://localhost:8080/"
        },
        "id": "DxbHeVv9PuZa",
        "outputId": "441bf22c-da4f-4a9c-de61-144074506ec0"
      }
    },
    {
      "cell_type": "markdown",
      "source": [
        "Transform the dataset to fit the tables in the schema file"
      ],
      "metadata": {
        "id": "DIkALfG-hoct"
      }
    },
    {
      "cell_type": "code",
      "execution_count": 59,
      "source": [
        "from pyspark.sql.functions import to_date\n",
        "# DataFrame\n",
        "review_id = watches_df.select([\"review_id\", \"customer_id\", \"product_id\", \"product_parent\", to_date(\"review_date\", 'yyyy-MM-dd').alias(\"review_date\")])\n",
        "review_id.show()"
      ],
      "outputs": [
        {
          "output_type": "stream",
          "name": "stdout",
          "text": [
            "+--------------+-----------+----------+--------------+-----------+\n",
            "|     review_id|customer_id|product_id|product_parent|review_date|\n",
            "+--------------+-----------+----------+--------------+-----------+\n",
            "|R101G33FIEDHQG|   22594238|B000PSN090|     425533441| 2015-02-08|\n",
            "|R10339L4K4LX3C|   20301275|B00LTQTH58|     732935288| 2014-11-18|\n",
            "|R1073CM97QGOPP|   32190651|B004V23YV0|     921921436| 2015-07-06|\n",
            "|R107KYD2GYG4DK|    1424324|B004Y4CMCM|     452126791| 2014-07-05|\n",
            "|R10AYHA3991CS9|   26642389|B00J0SSATQ|     682900500| 2014-10-28|\n",
            "|R10C59FCUFOZPG|   15168495|B005FMYSWO|     824130779| 2012-03-07|\n",
            "|R10DZLWV4QYCPI|    2239995|B000FVC5LG|     918169894| 2014-08-21|\n",
            "|R10E5DEJ235Z19|    5378758|B003IHFGBK|     857934958| 2014-02-08|\n",
            "|R10E6QP8RITUIA|    8495726|B00DI315GE|     734054846| 2015-03-23|\n",
            "|R10F6W35V8C1ER|   25578677|B006076T5M|     832352606| 2013-04-10|\n",
            "|R10G5F537HMGLR|   12806455|B00CJXMLNK|     908427132| 2014-01-06|\n",
            "|R10GL8NCNQU8M7|   15231446|B00I9I70BM|     419690985| 2015-04-15|\n",
            "|R10LINWDMEJ36W|   49886929|B0030DFF90|     839948246| 2014-11-01|\n",
            "|R10LY9CC9X0LFU|   30322418|B001P80F1U|     849924669| 2012-06-30|\n",
            "|R10NULP9XVKIZ1|   14082889|B001SN7RYU|     176617212| 2010-09-20|\n",
            "|R10OBYKK764PYU|    6521033|B00R5Z4RIY|     665723394| 2015-07-07|\n",
            "|R10OX8Q91SGWYJ|   24437869|B0035KKR82|     552231759| 2014-11-03|\n",
            "|R10QPAZPF866RT|   40722264|B00E4PQE4S|     786460878| 2014-11-26|\n",
            "|R10QUSB3X4422J|   30418303|B00J5EINZG|     947984166| 2015-01-11|\n",
            "|R10R0N9B8HAVIU|   14391166|B006SICNWG|     261656072| 2013-04-16|\n",
            "+--------------+-----------+----------+--------------+-----------+\n",
            "only showing top 20 rows\n",
            "\n"
          ]
        }
      ],
      "metadata": {
        "colab": {
          "base_uri": "https://localhost:8080/"
        },
        "id": "2r3SMNHWQBEr",
        "outputId": "97143a42-542d-4017-ff64-e7f5562ed18c"
      }
    },
    {
      "cell_type": "code",
      "execution_count": 60,
      "source": [
        "from pyspark import SparkFiles\n",
        "# DataFrame\n",
        "products = watches_df.select([\"product_id\", \"product_title\"])\n",
        "products = products.drop_duplicates([\"product_id\", \"product_title\"])\n",
        "products.show()"
      ],
      "outputs": [
        {
          "output_type": "stream",
          "name": "stdout",
          "text": [
            "+----------+--------------------+\n",
            "|product_id|       product_title|\n",
            "+----------+--------------------+\n",
            "|B00NL1CZ1C|Nuband. Activ+ Ac...|\n",
            "|B009BEO81I|        Fossil Riley|\n",
            "|B000UMI0FK|Armitron Sport Wo...|\n",
            "|B002NSKV6A|Kenneth Cole New ...|\n",
            "|B0083XFT5M|Timex Unisex T2N8...|\n",
            "|B00N1Y8TQ4|Tissot Men's T095...|\n",
            "|B008B39MTI|XOXO Women's XO55...|\n",
            "|B00CPJWMZK|Royal Crown Women...|\n",
            "|B0013HSXXK|Timex Men's T5K08...|\n",
            "|B004GHLE4Y|Timex Women's Ind...|\n",
            "|B00GQFVBKQ|Double Watch Wind...|\n",
            "|B00D3DUT48|Timex Women's T2P...|\n",
            "|B00CBPLWMC|JOINNEW@ 2013 New...|\n",
            "|B00J6AGSTM|Casio Women's BA-...|\n",
            "|B003DQRWM2|Casio G-shock BG1...|\n",
            "|B001O6K4DM| Single Watch Winder|\n",
            "|B002YK5W5W|Disney Women's MK...|\n",
            "|B004N49G5O|Nixon Rubber Re-R...|\n",
            "|B00NJNAS4I|Digital Watches, ...|\n",
            "|B00068TJJY|Seiko Men's SKA18...|\n",
            "+----------+--------------------+\n",
            "only showing top 20 rows\n",
            "\n"
          ]
        }
      ],
      "metadata": {
        "colab": {
          "base_uri": "https://localhost:8080/"
        },
        "id": "L0f3C5I7QX-K",
        "outputId": "a1c13d38-1af8-4703-922f-97d63c58f540"
      }
    },
    {
      "cell_type": "code",
      "execution_count": 61,
      "source": [
        "from pyspark import SparkFiles\n",
        "# DataFrame\n",
        "customers = watches_df.groupby([\"customer_id\"]).count()\n",
        "customers = customers.withColumnRenamed(\"count\", \"customer_count\")\n",
        "customers.show()"
      ],
      "outputs": [
        {
          "output_type": "stream",
          "name": "stdout",
          "text": [
            "+-----------+--------------+\n",
            "|customer_id|customer_count|\n",
            "+-----------+--------------+\n",
            "|    2252188|             1|\n",
            "|   52373157|             3|\n",
            "|    2594156|             2|\n",
            "|   13373248|             1|\n",
            "|   20671851|            24|\n",
            "|   45153737|             5|\n",
            "|    2891243|             2|\n",
            "|   45938967|             1|\n",
            "|   39355523|             1|\n",
            "|   29954480|             1|\n",
            "|   45726037|             2|\n",
            "|   12665682|             1|\n",
            "|   12550672|             7|\n",
            "|   22426070|             1|\n",
            "|   13309307|             1|\n",
            "|   11441161|             2|\n",
            "|   25694626|             1|\n",
            "|   12799553|             1|\n",
            "|   24740812|             1|\n",
            "|   12536485|             3|\n",
            "+-----------+--------------+\n",
            "only showing top 20 rows\n",
            "\n"
          ]
        }
      ],
      "metadata": {
        "colab": {
          "base_uri": "https://localhost:8080/"
        },
        "id": "MdBMHVcbXWHh",
        "outputId": "ed0d8f10-1ad1-4b2a-c447-6865ba2041eb"
      }
    },
    {
      "cell_type": "code",
      "execution_count": 62,
      "source": [
        "from pyspark import SparkFiles\n",
        "vine_table = watches_df.select([\"review_id\", \"star_rating\", \"helpful_votes\", \"total_votes\", \"vine\"])\n",
        "vine_table.show()"
      ],
      "outputs": [
        {
          "output_type": "stream",
          "name": "stdout",
          "text": [
            "+--------------+-----------+-------------+-----------+----+\n",
            "|     review_id|star_rating|helpful_votes|total_votes|vine|\n",
            "+--------------+-----------+-------------+-----------+----+\n",
            "|R101G33FIEDHQG|          3|            0|          0|   N|\n",
            "|R10339L4K4LX3C|          4|            1|          2|   N|\n",
            "|R1073CM97QGOPP|          5|            0|          0|   N|\n",
            "|R107KYD2GYG4DK|          5|            0|          0|   N|\n",
            "|R10AYHA3991CS9|          5|            2|          2|   N|\n",
            "|R10C59FCUFOZPG|          5|            3|          3|   N|\n",
            "|R10DZLWV4QYCPI|          5|            0|          0|   N|\n",
            "|R10E5DEJ235Z19|          4|            1|          2|   N|\n",
            "|R10E6QP8RITUIA|          5|            0|          0|   N|\n",
            "|R10F6W35V8C1ER|          5|            0|          0|   N|\n",
            "|R10G5F537HMGLR|          3|           26|         34|   N|\n",
            "|R10GL8NCNQU8M7|          3|            0|          0|   N|\n",
            "|R10LINWDMEJ36W|          5|            0|          0|   N|\n",
            "|R10LY9CC9X0LFU|          5|            0|          0|   N|\n",
            "|R10NULP9XVKIZ1|          4|            1|          1|   N|\n",
            "|R10OBYKK764PYU|          5|            0|          0|   N|\n",
            "|R10OX8Q91SGWYJ|          5|            0|          1|   N|\n",
            "|R10QPAZPF866RT|          5|            2|          3|   N|\n",
            "|R10QUSB3X4422J|          5|            3|          3|   N|\n",
            "|R10R0N9B8HAVIU|          5|            1|          1|   N|\n",
            "+--------------+-----------+-------------+-----------+----+\n",
            "only showing top 20 rows\n",
            "\n"
          ]
        }
      ],
      "metadata": {
        "colab": {
          "base_uri": "https://localhost:8080/"
        },
        "id": "TUe9SPTDZwJx",
        "outputId": "2f1e8062-31d3-4945-bccf-b955bcb35213"
      }
    },
    {
      "cell_type": "markdown",
      "source": [
        "Load the Dataframes that correspond to tables into an RDS instance"
      ],
      "metadata": {
        "id": "LIAfaD0hg9r8"
      }
    },
    {
      "cell_type": "code",
      "execution_count": 63,
      "source": [
        "mode = 'append'\n",
        "jdbc_url = \"jdbc:postgresql://mypostgresdb.ceomfsf1omq9.us-east-2.rds.amazonaws.com:5432/my_data_class_db\"\n",
        "config = {\n",
        "    'user':'postgres',\n",
        "    'password':'postgres',\n",
        "    'driver':\"org.postgresql.Driver\"\n",
        "}"
      ],
      "outputs": [],
      "metadata": {
        "id": "OlNRgKcid50V"
      }
    },
    {
      "cell_type": "code",
      "execution_count": 66,
      "source": [
        "review_id.write.jdbc(url=jdbc_url, table='review_id_table', mode=mode, properties=config)"
      ],
      "outputs": [],
      "metadata": {
        "id": "8yeB2o9IgmIx"
      }
    },
    {
      "cell_type": "code",
      "execution_count": 65,
      "source": [
        "products.write.jdbc(url=jdbc_url, table='products', mode=mode, properties=config)"
      ],
      "outputs": [],
      "metadata": {
        "id": "1D4P_be-gn9d"
      }
    },
    {
      "cell_type": "code",
      "execution_count": 67,
      "source": [
        "customers.write.jdbc(url=jdbc_url, table='customers', mode=mode, properties=config)"
      ],
      "outputs": [],
      "metadata": {
        "id": "TvcCcQJCBBnX"
      }
    },
    {
      "cell_type": "code",
      "execution_count": 68,
      "source": [
        "vine_table.write.jdbc(url=jdbc_url, table='vine_table', mode=mode, properties=config)"
      ],
      "outputs": [],
      "metadata": {
        "id": "GR0stj65BhsW"
      }
    },
    {
      "cell_type": "code",
      "execution_count": null,
      "source": [],
      "outputs": [],
      "metadata": {
        "id": "Tj9KJdRtCNty"
      }
    }
  ]
}