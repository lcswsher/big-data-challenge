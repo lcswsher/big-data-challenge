{
  "nbformat": 4,
  "nbformat_minor": 2,
  "metadata": {
    "colab": {
      "name": "level_two_cameras.ipynb",
      "provenance": [],
      "collapsed_sections": []
    },
    "kernelspec": {
      "name": "python3",
      "display_name": "Python 3"
    },
    "language_info": {
      "name": "python"
    }
  },
  "cells": [
    {
      "cell_type": "code",
      "execution_count": 17,
      "source": [
        "import os\r\n",
        "# Find the latest version of spark 3.0  from http://www.apache.org/dist/spark/ and enter as the spark version\r\n",
        "# For example:\r\n",
        "# spark_version = 'spark-3.0.3'\r\n",
        "spark_version = 'spark-3.1.2'\r\n",
        "os.environ['SPARK_VERSION']=spark_version\r\n",
        "\r\n",
        "# Install Spark and Java\r\n",
        "!apt-get update\r\n",
        "!apt-get install openjdk-8-jdk-headless -qq > /dev/null\r\n",
        "!wget -q http://www.apache.org/dist/spark/$SPARK_VERSION/$SPARK_VERSION-bin-hadoop2.7.tgz\r\n",
        "!tar xf $SPARK_VERSION-bin-hadoop2.7.tgz\r\n",
        "!pip install -q findspark\r\n",
        "\r\n",
        "# Set Environment Variables\r\n",
        "import os\r\n",
        "os.environ[\"JAVA_HOME\"] = \"/usr/lib/jvm/java-8-openjdk-amd64\"\r\n",
        "os.environ[\"SPARK_HOME\"] = f\"/content/{spark_version}-bin-hadoop2.7\"\r\n",
        "\r\n",
        "# Start a SparkSession\r\n",
        "import findspark\r\n",
        "findspark.init()"
      ],
      "outputs": [
        {
          "output_type": "stream",
          "name": "stdout",
          "text": [
            "Get:1 http://security.ubuntu.com/ubuntu bionic-security InRelease [88.7 kB]\n",
            "Ign:2 https://developer.download.nvidia.com/compute/cuda/repos/ubuntu1804/x86_64  InRelease\n",
            "Hit:3 https://cloud.r-project.org/bin/linux/ubuntu bionic-cran40/ InRelease\n",
            "Ign:4 https://developer.download.nvidia.com/compute/machine-learning/repos/ubuntu1804/x86_64  InRelease\n",
            "Hit:5 https://developer.download.nvidia.com/compute/cuda/repos/ubuntu1804/x86_64  Release\n",
            "Hit:6 https://developer.download.nvidia.com/compute/machine-learning/repos/ubuntu1804/x86_64  Release\n",
            "Hit:7 http://ppa.launchpad.net/c2d4u.team/c2d4u4.0+/ubuntu bionic InRelease\n",
            "Hit:8 http://archive.ubuntu.com/ubuntu bionic InRelease\n",
            "Hit:9 http://ppa.launchpad.net/cran/libgit2/ubuntu bionic InRelease\n",
            "Get:10 http://archive.ubuntu.com/ubuntu bionic-updates InRelease [88.7 kB]\n",
            "Hit:11 http://ppa.launchpad.net/deadsnakes/ppa/ubuntu bionic InRelease\n",
            "Hit:12 http://ppa.launchpad.net/graphics-drivers/ppa/ubuntu bionic InRelease\n",
            "Get:13 http://archive.ubuntu.com/ubuntu bionic-backports InRelease [74.6 kB]\n",
            "Fetched 252 kB in 3s (88.0 kB/s)\n",
            "Reading package lists... Done\n"
          ]
        }
      ],
      "metadata": {
        "colab": {
          "base_uri": "https://localhost:8080/"
        },
        "id": "ygkg9Atf_8mB",
        "outputId": "5424c351-ba7f-4f9e-b166-ae94b15d2a97"
      }
    },
    {
      "cell_type": "code",
      "execution_count": 18,
      "source": [
        "!wget https://jdbc.postgresql.org/download/postgresql-42.2.9.jar"
      ],
      "outputs": [
        {
          "output_type": "stream",
          "name": "stdout",
          "text": [
            "--2021-09-27 21:54:18--  https://jdbc.postgresql.org/download/postgresql-42.2.9.jar\n",
            "Resolving jdbc.postgresql.org (jdbc.postgresql.org)... 72.32.157.228, 2001:4800:3e1:1::228\n",
            "Connecting to jdbc.postgresql.org (jdbc.postgresql.org)|72.32.157.228|:443... connected.\n",
            "HTTP request sent, awaiting response... 200 OK\n",
            "Length: 914037 (893K) [application/java-archive]\n",
            "Saving to: ‘postgresql-42.2.9.jar.1’\n",
            "\n",
            "postgresql-42.2.9.j 100%[===================>] 892.61K  --.-KB/s    in 0.08s   \n",
            "\n",
            "2021-09-27 21:54:19 (10.6 MB/s) - ‘postgresql-42.2.9.jar.1’ saved [914037/914037]\n",
            "\n"
          ]
        }
      ],
      "metadata": {
        "colab": {
          "base_uri": "https://localhost:8080/"
        },
        "id": "LVMKDDEOAH6H",
        "outputId": "70cf6786-bf1a-44f0-aeff-9e5e86fb4023"
      }
    },
    {
      "cell_type": "code",
      "execution_count": 19,
      "source": [
        "from pyspark.sql import SparkSession\r\n",
        "spark = SparkSession.builder.appName(\"CloudETL\").config(\"spark.driver.extraClassPath\",\"/content/postgresql-42.2.9.jar\").getOrCreate()"
      ],
      "outputs": [],
      "metadata": {
        "id": "SjvU6_QLAM2b"
      }
    },
    {
      "cell_type": "code",
      "execution_count": 20,
      "source": [
        "from pyspark import SparkFiles\r\n",
        "url = \"https://s3.amazonaws.com/amazon-reviews-pds/tsv/amazon_reviews_us_Camera_v1_00.tsv.gz\"\r\n",
        "spark.sparkContext.addFile(url)\r\n",
        "cameras_df = spark.read.csv(SparkFiles.get(\"amazon_reviews_us_Camera_v1_00.tsv.gz\"), sep=\"\\t\", header=True)\r\n",
        "cameras_df.show(5)"
      ],
      "outputs": [
        {
          "output_type": "stream",
          "name": "stdout",
          "text": [
            "+-----------+-----------+--------------+----------+--------------+--------------------+----------------+-----------+-------------+-----------+----+-----------------+--------------------+--------------------+-----------+\n",
            "|marketplace|customer_id|     review_id|product_id|product_parent|       product_title|product_category|star_rating|helpful_votes|total_votes|vine|verified_purchase|     review_headline|         review_body|review_date|\n",
            "+-----------+-----------+--------------+----------+--------------+--------------------+----------------+-----------+-------------+-----------+----+-----------------+--------------------+--------------------+-----------+\n",
            "|         US|    2975964|R1NBG94582SJE2|B00I01JQJM|     860486164|GoPro Rechargeabl...|          Camera|          5|            0|          0|   N|                Y|          Five Stars|                  ok| 2015-08-31|\n",
            "|         US|   23526356|R273DCA6Y0H9V7|B00TCO0ZAA|     292641483|Professional 58mm...|          Camera|          5|            0|          0|   N|                Y|          Love it!!!|Perfect, even stu...| 2015-08-31|\n",
            "|         US|   52764145| RQVOXO7WUOFK6|B00B7733E0|      75825744|Spy Tec Z12 Motio...|          Camera|          2|            1|          1|   N|                Y|Another Motion De...|If the words, &#3...| 2015-08-31|\n",
            "|         US|   47348933|R1KWKSF21PO6HO|B006ZN4U34|     789352955|Celestron UpClose...|          Camera|          5|            0|          0|   N|                Y|Exactly what I wa...|Exactly what I wa...| 2015-08-31|\n",
            "|         US|   33680700|R38H3UO1J190GI|B00HUEBGMU|      19067902|Vidpro XM-L Wired...|          Camera|          5|            1|          1|   N|                Y|Good mic at a Goo...|I will look past ...| 2015-08-31|\n",
            "+-----------+-----------+--------------+----------+--------------+--------------------+----------------+-----------+-------------+-----------+----+-----------------+--------------------+--------------------+-----------+\n",
            "only showing top 5 rows\n",
            "\n"
          ]
        }
      ],
      "metadata": {
        "colab": {
          "base_uri": "https://localhost:8080/"
        },
        "id": "R8raN1r0DJQV",
        "outputId": "461be7df-ab67-4dd1-9e12-bb97b3fa806d"
      }
    },
    {
      "cell_type": "code",
      "execution_count": 21,
      "source": [
        "from pyspark import SparkFiles\n",
        "url = \"https://s3.amazonaws.com/amazon-reviews-pds/tsv/amazon_reviews_us_Watches_v1_00.tsv.gz\"\n",
        "spark.sparkContext.addFile(url)\n",
        "watches_df = spark.read.csv(SparkFiles.get(\"amazon_reviews_us_Watches_v1_00.tsv.gz\"), sep=\"\\t\", header=True)\n",
        "watches_df.show(5)"
      ],
      "outputs": [
        {
          "output_type": "stream",
          "name": "stdout",
          "text": [
            "+-----------+-----------+--------------+----------+--------------+--------------------+----------------+-----------+-------------+-----------+----+-----------------+--------------------+--------------------+-----------+\n",
            "|marketplace|customer_id|     review_id|product_id|product_parent|       product_title|product_category|star_rating|helpful_votes|total_votes|vine|verified_purchase|     review_headline|         review_body|review_date|\n",
            "+-----------+-----------+--------------+----------+--------------+--------------------+----------------+-----------+-------------+-----------+----+-----------------+--------------------+--------------------+-----------+\n",
            "|         US|    3653882|R3O9SGZBVQBV76|B00FALQ1ZC|     937001370|Invicta Women's 1...|         Watches|          5|            0|          0|   N|                Y|          Five Stars|Absolutely love t...| 2015-08-31|\n",
            "|         US|   14661224| RKH8BNC3L5DLF|B00D3RGO20|     484010722|Kenneth Cole New ...|         Watches|          5|            0|          0|   N|                Y|I love thiswatch ...|I love this watch...| 2015-08-31|\n",
            "|         US|   27324930|R2HLE8WKZSU3NL|B00DKYC7TK|     361166390|Ritche 22mm Black...|         Watches|          2|            1|          1|   N|                Y|           Two Stars|           Scratches| 2015-08-31|\n",
            "|         US|    7211452|R31U3UH5AZ42LL|B000EQS1JW|     958035625|Citizen Men's BM8...|         Watches|          5|            0|          0|   N|                Y|          Five Stars|It works well on ...| 2015-08-31|\n",
            "|         US|   12733322|R2SV659OUJ945Y|B00A6GFD7S|     765328221|Orient ER27009B M...|         Watches|          4|            0|          0|   N|                Y|Beautiful face, b...|Beautiful watch f...| 2015-08-31|\n",
            "+-----------+-----------+--------------+----------+--------------+--------------------+----------------+-----------+-------------+-----------+----+-----------------+--------------------+--------------------+-----------+\n",
            "only showing top 5 rows\n",
            "\n"
          ]
        }
      ],
      "metadata": {
        "colab": {
          "base_uri": "https://localhost:8080/"
        },
        "id": "uvLXvb9rFCso",
        "outputId": "c0a1b941-8ba5-406d-99f6-c93112aa04ea"
      }
    },
    {
      "cell_type": "markdown",
      "source": [
        "Cameras Vine Reviews:"
      ],
      "metadata": {
        "id": "HzHeCnW7FPRq"
      }
    },
    {
      "cell_type": "code",
      "execution_count": 22,
      "source": [
        "from pyspark import SparkFiles\n",
        "vine_table_cameras = cameras_df.select([\"review_id\", \"star_rating\", \"helpful_votes\", \"total_votes\", \"vine\"])\n",
        "vine_table_cameras.show(5)"
      ],
      "outputs": [
        {
          "output_type": "stream",
          "name": "stdout",
          "text": [
            "+--------------+-----------+-------------+-----------+----+\n",
            "|     review_id|star_rating|helpful_votes|total_votes|vine|\n",
            "+--------------+-----------+-------------+-----------+----+\n",
            "|R1NBG94582SJE2|          5|            0|          0|   N|\n",
            "|R273DCA6Y0H9V7|          5|            0|          0|   N|\n",
            "| RQVOXO7WUOFK6|          2|            1|          1|   N|\n",
            "|R1KWKSF21PO6HO|          5|            0|          0|   N|\n",
            "|R38H3UO1J190GI|          5|            1|          1|   N|\n",
            "+--------------+-----------+-------------+-----------+----+\n",
            "only showing top 5 rows\n",
            "\n"
          ]
        }
      ],
      "metadata": {
        "colab": {
          "base_uri": "https://localhost:8080/"
        },
        "id": "yTFEyjdKDQ_h",
        "outputId": "4e30842e-7259-4446-b565-84a06d9e50ea"
      }
    },
    {
      "cell_type": "markdown",
      "source": [
        "Watches Vine Review:"
      ],
      "metadata": {
        "id": "ovbjE9TMFfk6"
      }
    },
    {
      "cell_type": "code",
      "execution_count": 23,
      "source": [
        "from pyspark import SparkFiles\n",
        "vine_table_watches = watches_df.select([\"review_id\", \"star_rating\", \"helpful_votes\", \"total_votes\", \"vine\"])\n",
        "vine_table_watches.show(5)"
      ],
      "outputs": [
        {
          "output_type": "stream",
          "name": "stdout",
          "text": [
            "+--------------+-----------+-------------+-----------+----+\n",
            "|     review_id|star_rating|helpful_votes|total_votes|vine|\n",
            "+--------------+-----------+-------------+-----------+----+\n",
            "|R3O9SGZBVQBV76|          5|            0|          0|   N|\n",
            "| RKH8BNC3L5DLF|          5|            0|          0|   N|\n",
            "|R2HLE8WKZSU3NL|          2|            1|          1|   N|\n",
            "|R31U3UH5AZ42LL|          5|            0|          0|   N|\n",
            "|R2SV659OUJ945Y|          4|            0|          0|   N|\n",
            "+--------------+-----------+-------------+-----------+----+\n",
            "only showing top 5 rows\n",
            "\n"
          ]
        }
      ],
      "metadata": {
        "colab": {
          "base_uri": "https://localhost:8080/"
        },
        "id": "EHCl4QXHEsZh",
        "outputId": "083c67be-6c59-4add-9f22-cf2d0f1acae2"
      }
    },
    {
      "cell_type": "markdown",
      "source": [
        "Drop NA and Drop Duplicates"
      ],
      "metadata": {
        "id": "iRL0qenFIJcq"
      }
    },
    {
      "cell_type": "code",
      "execution_count": 24,
      "source": [
        "print(vine_table_cameras.count())\n",
        "print(vine_table_watches.count())\n",
        "vine_table_watches = vine_table_watches.dropna()\n",
        "vine_table_watches = vine_table_watches.na.drop()\n",
        "vine_table_watches = vine_table_watches.dropDuplicates()\n",
        "vine_table_cameras = vine_table_cameras.dropna()\n",
        "vine_table_cameras = vine_table_cameras.na.drop()\n",
        "vine_table_cameras = vine_table_cameras.dropDuplicates()\n",
        "print(vine_table_cameras.count())\n",
        "print(vine_table_watches.count())"
      ],
      "outputs": [
        {
          "output_type": "stream",
          "name": "stdout",
          "text": [
            "1801974\n",
            "960872\n",
            "1801972\n",
            "960872\n"
          ]
        }
      ],
      "metadata": {
        "colab": {
          "base_uri": "https://localhost:8080/"
        },
        "id": "g4HgOZdRHTT6",
        "outputId": "1f08231c-f901-4b7f-83cc-75012da2c570"
      }
    },
    {
      "cell_type": "code",
      "execution_count": 25,
      "source": [
        "vine_table_watches.describe().show()"
      ],
      "outputs": [
        {
          "output_type": "stream",
          "name": "stdout",
          "text": [
            "+-------+--------------+------------------+------------------+------------------+------+\n",
            "|summary|     review_id|       star_rating|     helpful_votes|       total_votes|  vine|\n",
            "+-------+--------------+------------------+------------------+------------------+------+\n",
            "|  count|        960872|            960872|            960872|            960872|960872|\n",
            "|   mean|          null| 4.138282726523408|1.1968274650525772|1.5611049130373245|  null|\n",
            "| stddev|          null|1.2932852524784497|  8.16113672841207|   9.0687961219924|  null|\n",
            "|    min|R100047PHC0PC5|                 1|                 0|                 0|     N|\n",
            "|    max| RZZZRO24XW75Z|                 5|                99|                99|     Y|\n",
            "+-------+--------------+------------------+------------------+------------------+------+\n",
            "\n"
          ]
        }
      ],
      "metadata": {
        "colab": {
          "base_uri": "https://localhost:8080/"
        },
        "id": "Tix64QtjIZMx",
        "outputId": "2a8d1df5-6e29-41bf-d506-8f7d2740c7a1"
      }
    },
    {
      "cell_type": "code",
      "execution_count": 26,
      "source": [
        "  vine_table_cameras.describe().show()"
      ],
      "outputs": [
        {
          "output_type": "stream",
          "name": "stdout",
          "text": [
            "+-------+--------------+------------------+------------------+------------------+-------+\n",
            "|summary|     review_id|       star_rating|     helpful_votes|       total_votes|   vine|\n",
            "+-------+--------------+------------------+------------------+------------------+-------+\n",
            "|  count|       1801972|           1801972|           1801972|           1801972|1801972|\n",
            "|   mean|          null| 4.127014737187925| 2.905414179576597| 3.638446102381169|   null|\n",
            "| stddev|          null|1.3053194462552795|23.099167639906334|24.505995368170765|   null|\n",
            "|    min|R10003UWRY0AVF|                 1|                 0|                 0|      N|\n",
            "|    max| RZZZUWFYAAIHI|                 5|               999|               999|      Y|\n",
            "+-------+--------------+------------------+------------------+------------------+-------+\n",
            "\n"
          ]
        }
      ],
      "metadata": {
        "colab": {
          "base_uri": "https://localhost:8080/"
        },
        "id": "uLQGcHmOL8Ow",
        "outputId": "6ba65530-3296-444d-a000-6e48f435d42d"
      }
    },
    {
      "cell_type": "code",
      "execution_count": 42,
      "source": [
        "from pyspark.sql.types import IntegerType\n",
        "from pyspark import SparkFiles\n",
        "vine_table_watches = vine_table_watches.withColumn(\"star_rating\",watches_df[\"star_rating\"].cast(IntegerType()))\n",
        "vine_table_watches.groupBy(\"vine\").avg(\"star_rating\").show(truncate=False)"
      ],
      "outputs": [
        {
          "output_type": "stream",
          "name": "stdout",
          "text": [
            "+----+-----------------+\n",
            "|vine|avg(star_rating) |\n",
            "+----+-----------------+\n",
            "|Y   |4.034344590726961|\n",
            "|N   |4.13847204483253 |\n",
            "+----+-----------------+\n",
            "\n"
          ]
        }
      ],
      "metadata": {
        "colab": {
          "base_uri": "https://localhost:8080/"
        },
        "id": "-9ClIb3TdSdO",
        "outputId": "b70c7918-6d10-4c78-da81-4479a2f679e6"
      }
    },
    {
      "cell_type": "code",
      "execution_count": 44,
      "source": [
        "from pyspark.sql.types import IntegerType\n",
        "from pyspark import SparkFiles\n",
        "vine_table_cameras = vine_table_cameras.withColumn(\"star_rating\",cameras_df[\"star_rating\"].cast(IntegerType()))\n",
        "vine_table_cameras.groupBy(\"vine\").avg(\"star_rating\").show(truncate=False)"
      ],
      "outputs": [
        {
          "output_type": "stream",
          "name": "stdout",
          "text": [
            "+----+-----------------+\n",
            "|vine|avg(star_rating) |\n",
            "+----+-----------------+\n",
            "|Y   |4.128250665990105|\n",
            "|N   |4.127009306673192|\n",
            "+----+-----------------+\n",
            "\n"
          ]
        }
      ],
      "metadata": {
        "colab": {
          "base_uri": "https://localhost:8080/"
        },
        "id": "BTDJBjfrfJIA",
        "outputId": "f7546362-786b-48c4-89ff-7006ffbf0769"
      }
    },
    {
      "cell_type": "code",
      "execution_count": 48,
      "source": [
        "from pyspark import SparkFiles\n",
        "from pyspark.sql.functions import avg, col, desc\n",
        "vine_table_watches.groupBy(\"star_rating\", \"vine\").count().sort(col(\"star_rating\").desc()).show(truncate=False)"
      ],
      "outputs": [
        {
          "output_type": "stream",
          "name": "stdout",
          "text": [
            "+-----------+----+------+\n",
            "|star_rating|vine|count |\n",
            "+-----------+----+------+\n",
            "|5          |Y   |605   |\n",
            "|5          |N   |571022|\n",
            "|4          |Y   |754   |\n",
            "|4          |N   |172125|\n",
            "|3          |N   |78888 |\n",
            "|3          |Y   |266   |\n",
            "|2          |Y   |87    |\n",
            "|2          |N   |51948 |\n",
            "|1          |N   |85142 |\n",
            "|1          |Y   |35    |\n",
            "+-----------+----+------+\n",
            "\n"
          ]
        }
      ],
      "metadata": {
        "colab": {
          "base_uri": "https://localhost:8080/"
        },
        "id": "qyXivvzmgQcN",
        "outputId": "2694d551-f486-42fc-d03b-bf5f4e46da71"
      }
    }
  ]
}